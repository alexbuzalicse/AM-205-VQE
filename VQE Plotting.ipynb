{
 "cells": [
  {
   "cell_type": "code",
   "execution_count": null,
   "metadata": {
    "collapsed": true
   },
   "outputs": [],
   "source": [
    "import numpy as np\n",
    "import matplotlib.pyplot as plt\n",
    "import matplotlib\n",
    "import pickle"
   ]
  },
  {
   "cell_type": "code",
   "execution_count": null,
   "outputs": [],
   "source": [
    "optimizerTypes = ['SPSA', 'TNC', 'NM']\n",
    "shots = [300,400,500,600,700,800,900,1000]\n",
    "trueGroundEnergy = -1.8572750302023786"
   ],
   "metadata": {
    "collapsed": false
   }
  },
  {
   "cell_type": "code",
   "execution_count": null,
   "outputs": [],
   "source": [
    "# Load Data\n",
    "ansatzData = 'Two Local 1'\n",
    "with open(f'Data/{ansatzData}_Data.pkl', 'rb') as f:\n",
    "    vqeResults, vqeTimes, vqeConvergence = pickle.load(f)"
   ],
   "metadata": {
    "collapsed": false
   }
  },
  {
   "cell_type": "code",
   "execution_count": null,
   "outputs": [],
   "source": [
    "# Plot accuracy vs. shot number\n",
    "plt.hlines(trueGroundEnergy,300,1024,color = 'red', linestyle='--', label = 'True')\n",
    "for optimizerType in optimizerTypes:\n",
    "    average = np.average(vqeResults[optimizerType],1)\n",
    "    err = np.std(vqeResults[optimizerType],1)\n",
    "    plt.errorbar(shots, average, yerr=err, fmt = 'o', capsize=5, label = optimizerType)\n",
    "\n",
    "plt.xlabel('Shots')\n",
    "plt.ylabel('Ground State Energy (Hartree)')\n",
    "plt.legend(loc='upper right')\n",
    "matplotlib.rcParams.update({'font.size': 16})\n",
    "plt.savefig(f'Figures/{ansatzData}_ShotNumber.pdf', bbox_inches = 'tight')"
   ],
   "metadata": {
    "collapsed": false
   }
  },
  {
   "cell_type": "code",
   "execution_count": null,
   "outputs": [],
   "source": [
    "# Plot convergence rate\n",
    "shotNumber = 700\n",
    "shotArg = shots.index(shotNumber)\n",
    "\n",
    "for optimizerType in optimizerTypes:\n",
    "    plt.plot(np.average(vqeConvergence[optimizerType][:,shotArg,0],0),np.average(vqeConvergence[optimizerType][:,shotArg,1],0), label = optimizerType)\n",
    "\n",
    "plt.legend()\n",
    "matplotlib.rcParams.update({'font.size': 16})\n",
    "plt.xlabel('VQE Iteration')\n",
    "plt.ylabel('Ground State Energy (Hartree)')\n",
    "plt.savefig(f'Figures/{ansatzData}_Convergence.pdf', bbox_inches = 'tight')"
   ],
   "metadata": {
    "collapsed": false
   }
  },
  {
   "cell_type": "code",
   "execution_count": null,
   "outputs": [],
   "source": [
    "# Time Results\n",
    "shotNumber = 700\n",
    "shotArg = shots.index(shotNumber)\n",
    "\n",
    "# Compute average number of iterations\n",
    "for i, optimizerType in enumerate(optimizerTypes):\n",
    "    plt.hist(vqeTimes[optimizerType][shotArg,:],range=(0,7),bins = 30, label = optimizerType)\n",
    "\n",
    "plt.xlabel('VQE Run Time (s)')\n",
    "plt.legend()\n",
    "plt.savefig(f'Figures/{ansatzData}_Time.pdf', bbox_inches = 'tight')"
   ],
   "metadata": {
    "collapsed": false
   }
  }
 ],
 "metadata": {
  "kernelspec": {
   "display_name": "Python 3",
   "language": "python",
   "name": "python3"
  },
  "language_info": {
   "codemirror_mode": {
    "name": "ipython",
    "version": 2
   },
   "file_extension": ".py",
   "mimetype": "text/x-python",
   "name": "python",
   "nbconvert_exporter": "python",
   "pygments_lexer": "ipython2",
   "version": "2.7.6"
  }
 },
 "nbformat": 4,
 "nbformat_minor": 0
}
